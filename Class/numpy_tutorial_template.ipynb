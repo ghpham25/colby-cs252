{
 "cells": [
  {
   "cell_type": "markdown",
   "metadata": {},
   "source": [
    "# Numpy tutorial\n",
    "\n",
    "Oliver W. Layton\n",
    "\n",
    "CS251/2: Data Analysis and Visualization\n",
    "\n",
    "Spring 2023"
   ]
  },
  {
   "cell_type": "code",
   "execution_count": 1,
   "metadata": {},
   "outputs": [],
   "source": [
    "import numpy as np \n",
    "import time"
   ]
  },
  {
   "cell_type": "markdown",
   "metadata": {},
   "source": [
    "## Numpy ndarray basics"
   ]
  },
  {
   "cell_type": "markdown",
   "metadata": {},
   "source": [
    "### Creation from Python lists"
   ]
  },
  {
   "cell_type": "code",
   "execution_count": 2,
   "metadata": {},
   "outputs": [
    {
     "data": {
      "text/plain": [
       "array([[1, 2, 3],\n",
       "       [4, 5, 6],\n",
       "       [7, 8, 9]])"
      ]
     },
     "execution_count": 2,
     "metadata": {},
     "output_type": "execute_result"
    }
   ],
   "source": [
    "# Make a numpy array from a 2D python list\n",
    "arr = np.array([[1,2,3],[4,5,6],[7,8,9]])\n",
    "arr"
   ]
  },
  {
   "cell_type": "code",
   "execution_count": 3,
   "metadata": {},
   "outputs": [
    {
     "name": "stdout",
     "output_type": "stream",
     "text": [
      "[[1 2 3]\n",
      " [4 5 6]\n",
      " [7 8 9]]\n"
     ]
    }
   ],
   "source": [
    "# print it\n",
    "print(arr)"
   ]
  },
  {
   "cell_type": "markdown",
   "metadata": {},
   "source": [
    "### Data type of ndarray"
   ]
  },
  {
   "cell_type": "code",
   "execution_count": 4,
   "metadata": {},
   "outputs": [
    {
     "name": "stdout",
     "output_type": "stream",
     "text": [
      "Type of array is\n",
      " int64\n"
     ]
    }
   ],
   "source": [
    "# determine data type\n",
    "print('Type of array is\\n', arr.dtype)"
   ]
  },
  {
   "cell_type": "markdown",
   "metadata": {},
   "source": [
    "Type can be changed in a few ways. \n",
    "\n",
    "1. when creating array — (a) implicitly or (b) explicitly\n",
    "2. by casting types."
   ]
  },
  {
   "cell_type": "code",
   "execution_count": 5,
   "metadata": {},
   "outputs": [
    {
     "name": "stdout",
     "output_type": "stream",
     "text": [
      "[[1. 2. 3.]\n",
      " [4. 5. 6.]\n",
      " [7. 8. 9.]]\n",
      "float64\n"
     ]
    }
   ],
   "source": [
    "# 1a implicitly\n",
    "arr = np.array([[1., 2., 3.], [4., 5., 6.], [7., 8., 9.]])\n",
    "print(arr)\n",
    "print(arr.dtype)\n"
   ]
  },
  {
   "cell_type": "code",
   "execution_count": 6,
   "metadata": {},
   "outputs": [
    {
     "name": "stdout",
     "output_type": "stream",
     "text": [
      "[[1. 2. 3.]\n",
      " [4. 5. 6.]\n",
      " [7. 8. 9.]]\n",
      "float64\n"
     ]
    }
   ],
   "source": [
    "# 1b explicitly\n",
    "arr = np.array([[1, 2, 3], [4, 5, 6], [7, 8, 9]], dtype = float)\n",
    "print(arr)\n",
    "print(arr.dtype)"
   ]
  },
  {
   "cell_type": "code",
   "execution_count": 7,
   "metadata": {},
   "outputs": [
    {
     "name": "stdout",
     "output_type": "stream",
     "text": [
      "[[1. 2. 3.]\n",
      " [4. 5. 6.]\n",
      " [7. 8. 9.]]\n",
      "float64\n"
     ]
    }
   ],
   "source": [
    "# 2. NOTE: This is a METHOD of the array, not a FUNCTION\n",
    "arr = np.array([[1, 2, 3], [4, 5, 6], [7, 8, 9]])\n",
    "arr_float = arr.astype(float)\n",
    "print(arr_float)\n",
    "print(arr_float.dtype)"
   ]
  },
  {
   "cell_type": "code",
   "execution_count": 8,
   "metadata": {},
   "outputs": [
    {
     "name": "stdout",
     "output_type": "stream",
     "text": [
      "[['1' '2' '3']\n",
      " ['4' '5' '6']\n",
      " ['7' '8' '9']]\n"
     ]
    }
   ],
   "source": [
    "# Can also be string. be careful in your CSV parser that your \"numbers\"\n",
    "# aren't actually strings!\n",
    "arr = np.array([[1, 2, 3], [4, 5, 6], [7, 8, 9]],dtype = str)\n",
    "print(arr)"
   ]
  },
  {
   "cell_type": "markdown",
   "metadata": {},
   "source": [
    "### Convert back to Python list"
   ]
  },
  {
   "cell_type": "code",
   "execution_count": 9,
   "metadata": {},
   "outputs": [
    {
     "name": "stdout",
     "output_type": "stream",
     "text": [
      "Back as a Python list:\n",
      " [['1', '2', '3'], ['4', '5', '6'], ['7', '8', '9']]\n"
     ]
    }
   ],
   "source": [
    "# Convert back from ndarray to Python list\n",
    "arrAsList = arr.tolist()\n",
    "print('Back as a Python list:\\n', arrAsList)"
   ]
  },
  {
   "cell_type": "markdown",
   "metadata": {},
   "source": [
    "### Other ways to create ndarrays quickly"
   ]
  },
  {
   "cell_type": "markdown",
   "metadata": {},
   "source": [
    "#### 1. zeros\n",
    "\n",
    "- We can plug in a list to get a multi-dimensional array\n",
    "- We can plug in one int to get a vector of values"
   ]
  },
  {
   "cell_type": "code",
   "execution_count": 10,
   "metadata": {},
   "outputs": [
    {
     "data": {
      "text/plain": [
       "array([[0., 0., 0.],\n",
       "       [0., 0., 0.],\n",
       "       [0., 0., 0.],\n",
       "       [0., 0., 0.],\n",
       "       [0., 0., 0.],\n",
       "       [0., 0., 0.],\n",
       "       [0., 0., 0.],\n",
       "       [0., 0., 0.],\n",
       "       [0., 0., 0.],\n",
       "       [0., 0., 0.]])"
      ]
     },
     "execution_count": 10,
     "metadata": {},
     "output_type": "execute_result"
    }
   ],
   "source": [
    "arr = np.zeros([10,3])\n",
    "arr"
   ]
  },
  {
   "cell_type": "code",
   "execution_count": 11,
   "metadata": {},
   "outputs": [
    {
     "data": {
      "text/plain": [
       "array([0., 0., 0., 0., 0.])"
      ]
     },
     "execution_count": 11,
     "metadata": {},
     "output_type": "execute_result"
    }
   ],
   "source": [
    "np.zeros(5)"
   ]
  },
  {
   "cell_type": "markdown",
   "metadata": {},
   "source": [
    "#### 2. ones"
   ]
  },
  {
   "cell_type": "code",
   "execution_count": 12,
   "metadata": {},
   "outputs": [
    {
     "data": {
      "text/plain": [
       "array([[1., 1., 1., 1., 1., 1., 1.],\n",
       "       [1., 1., 1., 1., 1., 1., 1.],\n",
       "       [1., 1., 1., 1., 1., 1., 1.],\n",
       "       [1., 1., 1., 1., 1., 1., 1.],\n",
       "       [1., 1., 1., 1., 1., 1., 1.]])"
      ]
     },
     "execution_count": 12,
     "metadata": {},
     "output_type": "execute_result"
    }
   ],
   "source": [
    "arr = np.ones([5,7])\n",
    "arr"
   ]
  },
  {
   "cell_type": "code",
   "execution_count": 13,
   "metadata": {},
   "outputs": [
    {
     "name": "stdout",
     "output_type": "stream",
     "text": [
      "[[10. 10. 10. 10.]\n",
      " [10. 10. 10. 10.]\n",
      " [10. 10. 10. 10.]]\n"
     ]
    }
   ],
   "source": [
    "# can easily make any constant array\n",
    "arr_10s = 10*np.ones([3,4])\n",
    "print(arr_10s)"
   ]
  },
  {
   "cell_type": "markdown",
   "metadata": {},
   "source": [
    "#### 3. Random values"
   ]
  },
  {
   "cell_type": "code",
   "execution_count": 14,
   "metadata": {},
   "outputs": [
    {
     "data": {
      "text/plain": [
       "array([[0.5488135 , 0.71518937, 0.60276338, 0.54488318],\n",
       "       [0.4236548 , 0.64589411, 0.43758721, 0.891773  ]])"
      ]
     },
     "execution_count": 14,
     "metadata": {},
     "output_type": "execute_result"
    }
   ],
   "source": [
    "# Uniform random values\n",
    "np.random.seed(0)\n",
    "arr_rand = np.random.random([2,4])\n",
    "arr_rand"
   ]
  },
  {
   "cell_type": "code",
   "execution_count": 15,
   "metadata": {},
   "outputs": [
    {
     "data": {
      "text/plain": [
       "array([[ 8, 10,  1,  6,  7],\n",
       "       [ 7,  8,  1,  5,  9],\n",
       "       [ 8,  9,  4,  3,  0],\n",
       "       [ 3,  5,  0,  2,  3],\n",
       "       [ 8,  1,  3,  3,  3]])"
      ]
     },
     "execution_count": 15,
     "metadata": {},
     "output_type": "execute_result"
    }
   ],
   "source": [
    "np.random.randint(low = 0, high=11, size = (5,5))\n",
    "\n"
   ]
  },
  {
   "cell_type": "markdown",
   "metadata": {},
   "source": [
    "#### 4. Equally spaced floats in an interval"
   ]
  },
  {
   "cell_type": "code",
   "execution_count": 16,
   "metadata": {},
   "outputs": [
    {
     "data": {
      "text/plain": [
       "array([ 0.        ,  6.66666667, 13.33333333, 20.        ])"
      ]
     },
     "execution_count": 16,
     "metadata": {},
     "output_type": "execute_result"
    }
   ],
   "source": [
    "np.linspace(0,20, 4)"
   ]
  },
  {
   "cell_type": "markdown",
   "metadata": {},
   "source": [
    "#### 5. Equally spaced ints in an interval"
   ]
  },
  {
   "cell_type": "code",
   "execution_count": 17,
   "metadata": {},
   "outputs": [
    {
     "data": {
      "text/plain": [
       "array([0, 1, 2, 3, 4, 5, 6, 7, 8, 9])"
      ]
     },
     "execution_count": 17,
     "metadata": {},
     "output_type": "execute_result"
    }
   ],
   "source": [
    "np.arange(10)"
   ]
  },
  {
   "cell_type": "code",
   "execution_count": 18,
   "metadata": {},
   "outputs": [
    {
     "data": {
      "text/plain": [
       "array([-5, -3, -1,  1,  3,  5,  7,  9])"
      ]
     },
     "execution_count": 18,
     "metadata": {},
     "output_type": "execute_result"
    }
   ],
   "source": [
    "np.arange(-5,10,2)"
   ]
  },
  {
   "cell_type": "markdown",
   "metadata": {},
   "source": [
    "#### 6. Identity matrix"
   ]
  },
  {
   "cell_type": "code",
   "execution_count": 19,
   "metadata": {},
   "outputs": [
    {
     "data": {
      "text/plain": [
       "array([[1., 0., 0., 0., 0.],\n",
       "       [0., 1., 0., 0., 0.],\n",
       "       [0., 0., 1., 0., 0.],\n",
       "       [0., 0., 0., 1., 0.],\n",
       "       [0., 0., 0., 0., 1.]])"
      ]
     },
     "execution_count": 19,
     "metadata": {},
     "output_type": "execute_result"
    }
   ],
   "source": [
    "np.eye(5)"
   ]
  },
  {
   "cell_type": "markdown",
   "metadata": {},
   "source": [
    "### Check dimensions — `shape`"
   ]
  },
  {
   "cell_type": "code",
   "execution_count": 20,
   "metadata": {},
   "outputs": [
    {
     "data": {
      "text/plain": [
       "(2, 4)"
      ]
     },
     "execution_count": 20,
     "metadata": {},
     "output_type": "execute_result"
    }
   ],
   "source": [
    "# check shape of 3D array\n",
    "arr_rand.shape"
   ]
  },
  {
   "cell_type": "code",
   "execution_count": 21,
   "metadata": {},
   "outputs": [
    {
     "data": {
      "text/plain": [
       "(3, 4, 5, 6)"
      ]
     },
     "execution_count": 21,
     "metadata": {},
     "output_type": "execute_result"
    }
   ],
   "source": [
    "big = np.zeros([3,4,5,6])\n",
    "big.shape"
   ]
  },
  {
   "cell_type": "code",
   "execution_count": 22,
   "metadata": {},
   "outputs": [
    {
     "name": "stdout",
     "output_type": "stream",
     "text": [
      "4\n",
      "2\n"
     ]
    }
   ],
   "source": [
    "# check number of dimensions (M)\n",
    "print(big.ndim)\n",
    "print(arr_rand.ndim)"
   ]
  },
  {
   "cell_type": "code",
   "execution_count": 23,
   "metadata": {},
   "outputs": [
    {
     "name": "stdout",
     "output_type": "stream",
     "text": [
      "2 4\n"
     ]
    }
   ],
   "source": [
    "# Access 1st dim (#rows), 2nd dim (#cols) (Use f-string)\n",
    "print(arr_rand.shape[0], arr_rand.shape[1])"
   ]
  },
  {
   "cell_type": "code",
   "execution_count": 24,
   "metadata": {},
   "outputs": [
    {
     "name": "stdout",
     "output_type": "stream",
     "text": [
      "Num elements in arr_1: 8\n"
     ]
    }
   ],
   "source": [
    "# Check number of elements total\n",
    "print('Num elements in arr_1:', arr_rand.size)"
   ]
  },
  {
   "cell_type": "markdown",
   "metadata": {},
   "source": [
    "## Brief detour: Rapidly build python lists (list comprehension)"
   ]
  },
  {
   "cell_type": "code",
   "execution_count": 25,
   "metadata": {},
   "outputs": [
    {
     "name": "stdout",
     "output_type": "stream",
     "text": [
      "myList build the usual way [0, 1, 2, 3, 4]\n"
     ]
    }
   ],
   "source": [
    "# Brief detour: In python you can replace the workflow of \n",
    "# list-building by creating an empty list and looping to append...\n",
    "myList = []\n",
    "for i in range(5):\n",
    "    myList.append(i)\n",
    "print('myList build the usual way', myList)"
   ]
  },
  {
   "cell_type": "code",
   "execution_count": 26,
   "metadata": {},
   "outputs": [
    {
     "name": "stdout",
     "output_type": "stream",
     "text": [
      "myListComp [0, 1, 2, 3, 4]\n"
     ]
    }
   ],
   "source": [
    "# ...with Python list comprehensions\n",
    "myListComp = [i for i in range(5)]\n",
    "print('myListComp', myListComp)"
   ]
  },
  {
   "cell_type": "code",
   "execution_count": 27,
   "metadata": {},
   "outputs": [
    {
     "name": "stdout",
     "output_type": "stream",
     "text": [
      "myListSqr [0, 1, 4, 9, 16]\n"
     ]
    }
   ],
   "source": [
    "# you can build lists using any function of i. How about i^2?\n",
    "myListSqr = [i**2 for i in range(5)]\n",
    "print('myListSqr', myListSqr)"
   ]
  },
  {
   "cell_type": "markdown",
   "metadata": {},
   "source": [
    "## ndarray indexing\n",
    "\n",
    "Basic Accessing and modifying of ndarrays."
   ]
  },
  {
   "cell_type": "markdown",
   "metadata": {},
   "source": [
    "### Access and modify single elements"
   ]
  },
  {
   "cell_type": "code",
   "execution_count": 28,
   "metadata": {},
   "outputs": [
    {
     "name": "stdout",
     "output_type": "stream",
     "text": [
      "[[[ 6  1  4  4  8]\n",
      "  [10  4  6  3  5]\n",
      "  [ 8  7  9  9  2]\n",
      "  [ 7  8  8  9  2]]\n",
      "\n",
      " [[ 6 10  9 10  5]\n",
      "  [ 4  1  4  6  1]\n",
      "  [ 3  4  9  2  4]\n",
      "  [ 4  4  8  1  2]]\n",
      "\n",
      " [[10 10  1  5  8]\n",
      "  [ 4  3  8  3  1]\n",
      "  [ 1  5  6  6  7]\n",
      "  [ 9  5  2  5 10]]]\n",
      "(3, 4, 5)\n"
     ]
    }
   ],
   "source": [
    "# To access elements in a multidimensional ndarray use ONE set of square brackets []\n",
    "# Make a new random array\n",
    "np.random.seed(0)  # ensures random numbers come up the same each time. Useful for debugging.\n",
    "arr = np.random.randint(low = 1, high = 11, size = (3,4,5))\n",
    "print(arr)\n",
    "print(arr.shape)"
   ]
  },
  {
   "cell_type": "code",
   "execution_count": 29,
   "metadata": {},
   "outputs": [
    {
     "data": {
      "text/plain": [
       "1"
      ]
     },
     "execution_count": 29,
     "metadata": {},
     "output_type": "execute_result"
    }
   ],
   "source": [
    "# Get the 1st element\n",
    "arr [1,1,1]"
   ]
  },
  {
   "cell_type": "code",
   "execution_count": 30,
   "metadata": {},
   "outputs": [
    {
     "name": "stdout",
     "output_type": "stream",
     "text": [
      "arr is now:\n",
      " [[[99  1  4  4  8]\n",
      "  [10  4  6  3  5]\n",
      "  [ 8  7  9  9  2]\n",
      "  [ 7  8  8  9  2]]\n",
      "\n",
      " [[ 6 10  9 10  5]\n",
      "  [ 4  1  4  6  1]\n",
      "  [ 3  4  9  2  4]\n",
      "  [ 4  4  8  1  2]]\n",
      "\n",
      " [[10 10  1  5  8]\n",
      "  [ 4  3  8  3  1]\n",
      "  [ 1  5  6  6  7]\n",
      "  [ 9  5  2  5 10]]]\n"
     ]
    }
   ],
   "source": [
    "# Modifying single values is similar\n",
    "arr[0,0,0] = 99\n",
    "print('arr is now:\\n', arr)"
   ]
  },
  {
   "cell_type": "markdown",
   "metadata": {},
   "source": [
    "### Slicing: real power of numpy\n",
    "\n",
    "Use **colon** notation for all values in a dimension\n",
    "\n",
    "Access and modify different ranges of data along different dimensions "
   ]
  },
  {
   "cell_type": "markdown",
   "metadata": {},
   "source": [
    "Make a 3x5 random array. Access 2nd column"
   ]
  },
  {
   "cell_type": "code",
   "execution_count": 31,
   "metadata": {},
   "outputs": [
    {
     "data": {
      "text/plain": [
       "array([[0.5488135 , 0.71518937, 0.60276338, 0.54488318, 0.4236548 ],\n",
       "       [0.64589411, 0.43758721, 0.891773  , 0.96366276, 0.38344152],\n",
       "       [0.79172504, 0.52889492, 0.56804456, 0.92559664, 0.07103606]])"
      ]
     },
     "execution_count": 31,
     "metadata": {},
     "output_type": "execute_result"
    }
   ],
   "source": [
    "np.random.seed(0)\n",
    "rand_arr = np.random.random([3,5])\n",
    "rand_arr"
   ]
  },
  {
   "cell_type": "code",
   "execution_count": 32,
   "metadata": {},
   "outputs": [
    {
     "data": {
      "text/plain": [
       "array([0.71518937, 0.43758721, 0.52889492])"
      ]
     },
     "execution_count": 32,
     "metadata": {},
     "output_type": "execute_result"
    }
   ],
   "source": [
    "rand_arr[:,1]"
   ]
  },
  {
   "cell_type": "markdown",
   "metadata": {},
   "source": [
    "Access 1st row"
   ]
  },
  {
   "cell_type": "code",
   "execution_count": 33,
   "metadata": {},
   "outputs": [
    {
     "data": {
      "text/plain": [
       "array([0.5488135 , 0.71518937, 0.60276338, 0.54488318, 0.4236548 ])"
      ]
     },
     "execution_count": 33,
     "metadata": {},
     "output_type": "execute_result"
    }
   ],
   "source": [
    "rand_arr[0]"
   ]
  },
  {
   "cell_type": "markdown",
   "metadata": {},
   "source": [
    "Access last 2 columns"
   ]
  },
  {
   "cell_type": "code",
   "execution_count": 34,
   "metadata": {},
   "outputs": [
    {
     "data": {
      "text/plain": [
       "array([[0.54488318, 0.4236548 ],\n",
       "       [0.96366276, 0.38344152],\n",
       "       [0.92559664, 0.07103606]])"
      ]
     },
     "execution_count": 34,
     "metadata": {},
     "output_type": "execute_result"
    }
   ],
   "source": [
    "rand_arr[:,-2:]"
   ]
  },
  {
   "cell_type": "markdown",
   "metadata": {},
   "source": [
    "Access columns at indices 1-2 and in 1st row. Careful about off-by-one.\n",
    "\n",
    "- Low range (before :) CONTAINS that index\n",
    "- High range (after :) DOES NOT contain that index (i-1)"
   ]
  },
  {
   "cell_type": "code",
   "execution_count": 35,
   "metadata": {},
   "outputs": [
    {
     "data": {
      "text/plain": [
       "array([0.71518937, 0.60276338])"
      ]
     },
     "execution_count": 35,
     "metadata": {},
     "output_type": "execute_result"
    }
   ],
   "source": [
    "rand_arr[0,1:3]"
   ]
  },
  {
   "cell_type": "markdown",
   "metadata": {},
   "source": [
    "Use slicing to assign values efficiently in batch without loops"
   ]
  },
  {
   "cell_type": "code",
   "execution_count": 36,
   "metadata": {},
   "outputs": [
    {
     "name": "stdout",
     "output_type": "stream",
     "text": [
      "[[-1.         -1.         -1.         -1.         -1.        ]\n",
      " [ 0.64589411  0.43758721  0.891773    0.96366276  0.38344152]\n",
      " [ 0.79172504  0.52889492  0.56804456  0.92559664  0.07103606]]\n"
     ]
    }
   ],
   "source": [
    "# Assign 1st row to -1s\n",
    "rand_arr[0] = -1\n",
    "print(rand_arr)"
   ]
  },
  {
   "cell_type": "code",
   "execution_count": 37,
   "metadata": {},
   "outputs": [
    {
     "data": {
      "text/plain": [
       "array([[-1.        , -1.        , -1.        , -1.        , -1.        ],\n",
       "       [ 0.        ,  1.        ,  2.        ,  3.        ,  4.        ],\n",
       "       [ 0.79172504,  0.52889492,  0.56804456,  0.92559664,  0.07103606]])"
      ]
     },
     "execution_count": 37,
     "metadata": {},
     "output_type": "execute_result"
    }
   ],
   "source": [
    "# Assign 1st row to increasing ints\n",
    "rand_arr[1] = np.arange(rand_arr.shape[1])\n",
    "rand_arr"
   ]
  },
  {
   "cell_type": "code",
   "execution_count": 38,
   "metadata": {},
   "outputs": [
    {
     "data": {
      "text/plain": [
       "array([[-1.        , -1.        , -1.        , -1.        , -1.        ],\n",
       "       [ 0.        ,  1.        ,  2.        ,  3.        ,  4.        ],\n",
       "       [ 3.95862519,  2.6444746 ,  2.84022281,  4.62798319,  0.35518029]])"
      ]
     },
     "execution_count": 38,
     "metadata": {},
     "output_type": "execute_result"
    }
   ],
   "source": [
    "# Multiply the 3rd row by 5 times itself and update the row\n",
    "rand_arr[2] = 5*rand_arr[2]\n",
    "rand_arr"
   ]
  },
  {
   "cell_type": "markdown",
   "metadata": {},
   "source": [
    "### What if we want to access a set of rows or columns that are not adjacent?\n",
    "\n",
    "Can't use colon notation. Instead use `np._ix`"
   ]
  },
  {
   "cell_type": "code",
   "execution_count": 39,
   "metadata": {},
   "outputs": [
    {
     "data": {
      "text/plain": [
       "array([[ 5,  0,  3,  3,  7],\n",
       "       [ 9,  3,  5,  2,  4],\n",
       "       [ 7,  6,  8,  8, 10],\n",
       "       [ 1,  6,  7,  7,  8]])"
      ]
     },
     "execution_count": 39,
     "metadata": {},
     "output_type": "execute_result"
    }
   ],
   "source": [
    "np.random.seed(0)\n",
    "arr = np.random.randint(low = 0, high = 11, size = (4,5))\n",
    "arr"
   ]
  },
  {
   "cell_type": "code",
   "execution_count": 40,
   "metadata": {},
   "outputs": [
    {
     "data": {
      "text/plain": [
       "array([[ 5,  3,  7],\n",
       "       [ 9,  5,  4],\n",
       "       [ 7,  8, 10],\n",
       "       [ 1,  7,  8]])"
      ]
     },
     "execution_count": 40,
     "metadata": {},
     "output_type": "execute_result"
    }
   ],
   "source": [
    "arr[np.ix_([i for i in range(arr.shape[0])], [0,2,4])]"
   ]
  },
  {
   "cell_type": "markdown",
   "metadata": {},
   "source": [
    "Example: Say we want column indices 0, 2, 4 and all rows.\n",
    "\n",
    "**Syntax for `np.ix_`:**\n",
    "- `np.ix_` goes inside the square brackets: `arr[np.ix_(blah)]`\n",
    "- Give it `M` arguments (e.g. 2 for a 2D matrix).\n",
    "- Each argument is a Python list (or ndarray) of indices to take along that dimension."
   ]
  },
  {
   "cell_type": "code",
   "execution_count": null,
   "metadata": {},
   "outputs": [],
   "source": []
  },
  {
   "cell_type": "markdown",
   "metadata": {},
   "source": [
    "## Memory\n",
    "\n",
    "- Numpy tries to be efficient with arrays so assignment does a shallow copy. To do a deep copy, you need to use `.copy()` method"
   ]
  },
  {
   "cell_type": "code",
   "execution_count": 41,
   "metadata": {},
   "outputs": [
    {
     "name": "stdout",
     "output_type": "stream",
     "text": [
      "[-1.  -0.5  0.   0.5  1. ]\n"
     ]
    }
   ],
   "source": [
    "a = np.linspace(-1, 1, 5)\n",
    "print(a)"
   ]
  },
  {
   "cell_type": "code",
   "execution_count": 42,
   "metadata": {},
   "outputs": [
    {
     "name": "stdout",
     "output_type": "stream",
     "text": [
      "[99.  -0.5  0.   0.5  1. ]\n"
     ]
    }
   ],
   "source": [
    "b = a\n",
    "b[0] = 99\n",
    "print(b)"
   ]
  },
  {
   "cell_type": "code",
   "execution_count": 43,
   "metadata": {},
   "outputs": [
    {
     "data": {
      "text/plain": [
       "array([99. , -0.5,  0. ,  0.5,  1. ])"
      ]
     },
     "execution_count": 43,
     "metadata": {},
     "output_type": "execute_result"
    }
   ],
   "source": [
    "# changed a!\n",
    "a"
   ]
  },
  {
   "cell_type": "code",
   "execution_count": 44,
   "metadata": {},
   "outputs": [
    {
     "name": "stdout",
     "output_type": "stream",
     "text": [
      "[99.  -0.5  0.   0.5  1. ]\n",
      "[100.   -0.5   0.    0.5   1. ]\n"
     ]
    }
   ],
   "source": [
    "# fixed with .copy()\n",
    "b = a.copy()\n",
    "b[0] = 100\n",
    "\n",
    "print(a)\n",
    "print(b)"
   ]
  },
  {
   "cell_type": "markdown",
   "metadata": {},
   "source": [
    "## Apply functions over dimensions (`axes`)\n",
    "\n",
    "- Axes are the numpy term for different ndarray dimensions. \n",
    "- *Idea*: Do we want to apply an operation (e.g. sum) on the rows OR columns of a ndarray?\n",
    "- *Example*: axis 0 are the rows, axis 1 are the columns, etc.\n",
    "- We can apply functions over one or more axis super efficiently in one line of code! This is called **Vectorization** — MUCH MUCH faster than loops (stay tuned)."
   ]
  },
  {
   "cell_type": "code",
   "execution_count": 45,
   "metadata": {},
   "outputs": [
    {
     "data": {
      "text/plain": [
       "array([[1, 1, 1],\n",
       "       [2, 2, 2],\n",
       "       [3, 3, 3],\n",
       "       [4, 4, 4]])"
      ]
     },
     "execution_count": 45,
     "metadata": {},
     "output_type": "execute_result"
    }
   ],
   "source": [
    "one = np.array([[1, 1, 1], [2, 2, 2], [3, 3, 3], [4, 4, 4]])\n",
    "one"
   ]
  },
  {
   "cell_type": "markdown",
   "metadata": {},
   "source": [
    "Sum along rows -> \"collapse\" across rows to get sum within each column — 3 numbers"
   ]
  },
  {
   "cell_type": "code",
   "execution_count": 46,
   "metadata": {},
   "outputs": [
    {
     "data": {
      "text/plain": [
       "array([10, 10, 10])"
      ]
     },
     "execution_count": 46,
     "metadata": {},
     "output_type": "execute_result"
    }
   ],
   "source": [
    "np.sum(one, axis = 0) #0 stands for the rows, 1 stands for the cols"
   ]
  },
  {
   "cell_type": "markdown",
   "metadata": {},
   "source": [
    "Sum along columns -> \"collapse\" across columns to get sum within each row — 4 numbers"
   ]
  },
  {
   "cell_type": "code",
   "execution_count": 47,
   "metadata": {},
   "outputs": [
    {
     "data": {
      "text/plain": [
       "array([ 3,  6,  9, 12])"
      ]
     },
     "execution_count": 47,
     "metadata": {},
     "output_type": "execute_result"
    }
   ],
   "source": [
    "np.sum(one, 1)"
   ]
  },
  {
   "cell_type": "markdown",
   "metadata": {},
   "source": [
    "**Careful:** Applying a function without specifying the axis may compute across the ENTIRE ndarray."
   ]
  },
  {
   "cell_type": "code",
   "execution_count": null,
   "metadata": {},
   "outputs": [],
   "source": []
  },
  {
   "cell_type": "markdown",
   "metadata": {},
   "source": [
    "**Mnemonic trick:** Applying a function along an axis eliminates that dimension from the shape. Left with remaining dimensions."
   ]
  },
  {
   "cell_type": "code",
   "execution_count": 48,
   "metadata": {},
   "outputs": [
    {
     "name": "stdout",
     "output_type": "stream",
     "text": [
      "(4, 3)\n"
     ]
    },
    {
     "ename": "NameError",
     "evalue": "name 'the_mean' is not defined",
     "output_type": "error",
     "traceback": [
      "\u001b[0;31m---------------------------------------------------------------------------\u001b[0m",
      "\u001b[0;31mNameError\u001b[0m                                 Traceback (most recent call last)",
      "Cell \u001b[0;32mIn[48], line 3\u001b[0m\n\u001b[1;32m      1\u001b[0m \u001b[38;5;28mprint\u001b[39m(one\u001b[38;5;241m.\u001b[39mshape)\n\u001b[0;32m----> 3\u001b[0m \u001b[38;5;28mprint\u001b[39m(\u001b[38;5;124mf\u001b[39m\u001b[38;5;124m'\u001b[39m\u001b[38;5;124mMean across axis 0: \u001b[39m\u001b[38;5;132;01m{\u001b[39;00mthe_mean\u001b[38;5;241m.\u001b[39mshape\u001b[38;5;132;01m}\u001b[39;00m\u001b[38;5;124m'\u001b[39m)\n\u001b[1;32m      5\u001b[0m \u001b[38;5;28mprint\u001b[39m(one\u001b[38;5;241m.\u001b[39mshape)\n\u001b[1;32m      7\u001b[0m \u001b[38;5;28mprint\u001b[39m(\u001b[38;5;124mf\u001b[39m\u001b[38;5;124m'\u001b[39m\u001b[38;5;124mMean across axis 1: \u001b[39m\u001b[38;5;132;01m{\u001b[39;00mthe_mean\u001b[38;5;241m.\u001b[39mshape\u001b[38;5;132;01m}\u001b[39;00m\u001b[38;5;124m'\u001b[39m)\n",
      "\u001b[0;31mNameError\u001b[0m: name 'the_mean' is not defined"
     ]
    }
   ],
   "source": [
    "print(one.shape)\n",
    "\n",
    "print(f'Mean across axis 0: {the_mean.shape}')\n",
    "\n",
    "print(one.shape)\n",
    "\n",
    "print(f'Mean across axis 1: {the_mean.shape}')"
   ]
  },
  {
   "cell_type": "markdown",
   "metadata": {},
   "source": [
    "## Broadcasting (basics)\n",
    "\n",
    "**This is the most useful numpy feature thus far! This will become your bread-and-butter!**\n",
    "\n",
    "We will cover the basics now and revisit broadcasting in more detail in a few weeks."
   ]
  },
  {
   "cell_type": "markdown",
   "metadata": {},
   "source": [
    "### Broadcasting scalars\n",
    "\n",
    "As we saw, we can create an array of any size with any constant value WITHOUT ANY LOOPS. This is the simplest example of numpy **broadcasting** the scalar across the ndarray."
   ]
  },
  {
   "cell_type": "code",
   "execution_count": null,
   "metadata": {},
   "outputs": [],
   "source": [
    "# Example with basic arithmetic\n",
    "myArr = 5*np.ones([5,5])\n",
    "myArr"
   ]
  },
  {
   "cell_type": "markdown",
   "metadata": {},
   "source": [
    "### Applying an operation to corresponding values in two arrays that have the same shape\n",
    "\n",
    "Broadcasting allows you to efficiently (*and in one line of code*) add, subtract, multiply, and perform other operations on corresponding values in two arrays."
   ]
  },
  {
   "cell_type": "markdown",
   "metadata": {},
   "source": [
    "#### Examples: subtracting arrays with several different shapes"
   ]
  },
  {
   "cell_type": "code",
   "execution_count": null,
   "metadata": {},
   "outputs": [],
   "source": [
    "# 1D arrays\n",
    "arr1 = np.arange(10)\n",
    "arr2 = 5*np.ones(10)\n",
    "print(f'arr1: {arr1}')\n",
    "print(f'arr2: {arr2}')\n",
    "print(f'Shape of arr1: {arr1.shape}')\n",
    "print(f'Shape of arr2: {arr2.shape}')\n",
    "\n",
    "arr3 = arr1 - arr2\n",
    "arr3"
   ]
  },
  {
   "cell_type": "code",
   "execution_count": 50,
   "metadata": {},
   "outputs": [
    {
     "name": "stdout",
     "output_type": "stream",
     "text": [
      "arr1:\n",
      "[[1 2 3]\n",
      " [4 5 6]\n",
      " [7 8 9]]\n",
      "arr2:\n",
      "[[1 1 1]\n",
      " [0 0 0]\n",
      " [2 2 2]]\n",
      "Shape of arr1: (3, 3)\n",
      "Shape of arr2: (3, 3)\n"
     ]
    },
    {
     "data": {
      "text/plain": [
       "array([[0, 1, 2],\n",
       "       [4, 5, 6],\n",
       "       [5, 6, 7]])"
      ]
     },
     "execution_count": 50,
     "metadata": {},
     "output_type": "execute_result"
    }
   ],
   "source": [
    "# 2D arrays\n",
    "arr1 = np.array([[1, 2, 3], [4, 5, 6], [7, 8, 9]])\n",
    "arr2 = np.array([[1, 1, 1], [0, 0, 0], [2, 2, 2]])\n",
    "print(f'arr1:\\n{arr1}')\n",
    "print(f'arr2:\\n{arr2}')\n",
    "print(f'Shape of arr1: {arr1.shape}')\n",
    "print(f'Shape of arr2: {arr2.shape}')\n",
    "\n",
    "arr3 = arr1 - arr2\n",
    "arr3"
   ]
  },
  {
   "cell_type": "markdown",
   "metadata": {},
   "source": [
    "### Singleton dimensions\n",
    "\n",
    "Sometimes you have a 1D array that has shape like `(blah,)` but you need to use broadcasting to subtract it with another array that has a shape of a **column vector** of a matrix `(blah, 1)`. Because the number of values in the two arrays match, you would think it would be possible to broadcast operations to corresponding values (e.g. subtract). BUT, broadcasting won't work like you want (let's try)."
   ]
  },
  {
   "cell_type": "code",
   "execution_count": 57,
   "metadata": {},
   "outputs": [
    {
     "name": "stdout",
     "output_type": "stream",
     "text": [
      "arr1:\n",
      "[[0]\n",
      " [1]\n",
      " [2]]\n",
      "arr2:\n",
      "[[1]\n",
      " [2]\n",
      " [3]]\n",
      "arr1 shape: (3, 1)\n",
      "arr2 shape: (3, 1)\n",
      "Trying to broadcast arr1 - arr2...\n",
      "[[-1]\n",
      " [-1]\n",
      " [-1]]\n"
     ]
    },
    {
     "data": {
      "text/plain": [
       "(3, 1)"
      ]
     },
     "execution_count": 57,
     "metadata": {},
     "output_type": "execute_result"
    }
   ],
   "source": [
    "arr1 = np.arange(3)\n",
    "arr1 = arr1[:,np.newaxis] #can do arr1[:,np.newaxis,np.newaxis] for 2 dimensions\n",
    "arr2 = np.array([[1], [2], [3]])\n",
    "print(f'arr1:\\n{arr1}')\n",
    "print(f'arr2:\\n{arr2}')\n",
    "print(f'arr1 shape: {arr1.shape}')\n",
    "print(f'arr2 shape: {arr2.shape}')\n",
    "print('Trying to broadcast arr1 - arr2...')\n",
    "arr3 = arr1 - arr2\n",
    "print(arr3)\n",
    "arr3.shape\n"
   ]
  },
  {
   "cell_type": "markdown",
   "metadata": {},
   "source": [
    "To get broadcasting to subtract off corresponding values in the arrays, we need to add a **singleton dimension** — an extra 1 dimension to `arr1` so that the shape matches the other array and so that numpy interprets `arr1` also as a column vector."
   ]
  },
  {
   "cell_type": "code",
   "execution_count": null,
   "metadata": {},
   "outputs": [],
   "source": [
    "arr1 = np.arange(3)\n",
    "\n",
    "print(f'arr1:\\n{arr2}')\n",
    "print(f'arr1 shape: {arr1.shape}')\n",
    "print(f'arr2 shape: {arr2.shape}')\n",
    "print('Trying to broadcast arr1 - arr2...')\n"
   ]
  },
  {
   "cell_type": "markdown",
   "metadata": {},
   "source": [
    "### Squeeze: How to get of all singleton dimensions\n",
    "\n",
    "\"Undo\" a new axis / singleton dimension"
   ]
  },
  {
   "cell_type": "code",
   "execution_count": 58,
   "metadata": {},
   "outputs": [
    {
     "name": "stdout",
     "output_type": "stream",
     "text": [
      "(3, 1)\n"
     ]
    }
   ],
   "source": [
    "print(arr1.shape)"
   ]
  },
  {
   "cell_type": "code",
   "execution_count": 60,
   "metadata": {},
   "outputs": [
    {
     "name": "stdout",
     "output_type": "stream",
     "text": [
      "arr1:\n",
      "[0 1 2]\n",
      "arr1 shape: (3,)\n"
     ]
    }
   ],
   "source": [
    "arr1 = np.squeeze(arr1)\n",
    "print(f'arr1:\\n{arr1}')\n",
    "print(f'arr1 shape: {arr1.shape}')"
   ]
  },
  {
   "cell_type": "markdown",
   "metadata": {},
   "source": [
    "Removes ALL singleton dimensions (if you have more than one):"
   ]
  },
  {
   "cell_type": "code",
   "execution_count": null,
   "metadata": {},
   "outputs": [],
   "source": [
    "ex = np.zeros([1, 2, 1, 3, 1, 4, 5, 1])\n",
    "ex.shape"
   ]
  },
  {
   "cell_type": "code",
   "execution_count": null,
   "metadata": {},
   "outputs": [],
   "source": []
  },
  {
   "cell_type": "markdown",
   "metadata": {},
   "source": [
    "## Vectorization speed vs loops\n",
    "\n",
    "Time computation of summing a ndarray with loop vs vectorized."
   ]
  },
  {
   "cell_type": "code",
   "execution_count": 62,
   "metadata": {},
   "outputs": [],
   "source": [
    "def timeit(fun):\n",
    "    '''Just a function to time the runtime of another function'''\n",
    "    def timer():\n",
    "        start = time.time()\n",
    "        fun()\n",
    "        end = time.time()\n",
    "        print(f'Took {end - start:.3} secs to run.')\n",
    "    return timer\n",
    "\n",
    "\n",
    "@timeit\n",
    "def sumLoop():\n",
    "    '''Use for loop to sum a row vector'''\n",
    "    longRow = np.array([i for i in range(1, 1000000)])\n",
    "    theSum = 0\n",
    "    for i in range(len(longRow)):\n",
    "        theSum += longRow[i]\n",
    "\n",
    "\n",
    "@timeit\n",
    "def sumVectorized():\n",
    "    '''Vectorized version of summing a row vector'''\n",
    "    longRow = np.array([i for i in range(1, 1000000)])\n",
    "    theSum = np.sum(longRow)"
   ]
  },
  {
   "cell_type": "code",
   "execution_count": 63,
   "metadata": {},
   "outputs": [
    {
     "name": "stdout",
     "output_type": "stream",
     "text": [
      "sumLoop:\n",
      "Took 0.224 secs to run.\n",
      "sumVectorized:\n",
      "Took 0.0874 secs to run.\n"
     ]
    }
   ],
   "source": [
    "# Dynamic typing in python makes for loops with lots of small\n",
    "# operations slow\n",
    "print('sumLoop:')\n",
    "sumLoop()\n",
    "\n",
    "# Vectorization allows Numpy to stop searching at runtime\n",
    "# and use efficient pre-compiled functions to batch-process\n",
    "# the computation over the matrix\n",
    "print('sumVectorized:')\n",
    "sumVectorized()"
   ]
  },
  {
   "cell_type": "markdown",
   "metadata": {},
   "source": [
    "## Combining multiple ndarrays\n",
    "\n",
    "**Problem:**\n",
    "- You have two ndarrays and want to concatenate them\n",
    "- You have an ndarray and **want to append a column or row vector**"
   ]
  },
  {
   "cell_type": "markdown",
   "metadata": {},
   "source": [
    "### Add/append a new column — \"stack horizontally\"\n",
    "\n",
    "**Mnemonic**: Columns go horizontally.\n",
    "\n",
    "Have `a`:\n",
    "\n",
    "    [[1, 2]\n",
    "     [3, 4]]\n",
    "and `b`\n",
    "\n",
    "    [[9]\n",
    "     [9]]\n",
    "    \n",
    "want to make:\n",
    "\n",
    "    [[1, 2, 9]\n",
    "     [3, 4, 9]]\n",
    "    \n",
    "i.e. stack horizontally. Could be two matrices (not just a matrix and a vector).\n",
    "\n",
    "**Caveat:** We need to make sure shapes are compatible for broadcasting:\n",
    "\n",
    "- Result shape = `(2, 3)`\n",
    "- We are starting with `a` shape: `(2, 2)`\n",
    "\n",
    "The shape of `b` needs to be `(2, 1)` (why?)"
   ]
  },
  {
   "cell_type": "code",
   "execution_count": 64,
   "metadata": {},
   "outputs": [
    {
     "name": "stdout",
     "output_type": "stream",
     "text": [
      "[[1 2]\n",
      " [3 4]]\n",
      "[[9.]\n",
      " [9.]]\n"
     ]
    }
   ],
   "source": [
    "a = np.array([[1,2],[3,4]])\n",
    "b = 9*np.ones([2,1])\n",
    "print(a)\n",
    "print(b)"
   ]
  },
  {
   "cell_type": "code",
   "execution_count": 65,
   "metadata": {},
   "outputs": [
    {
     "name": "stdout",
     "output_type": "stream",
     "text": [
      "[[1. 2. 9.]\n",
      " [3. 4. 9.]]\n"
     ]
    },
    {
     "data": {
      "text/plain": [
       "(2, 3)"
      ]
     },
     "execution_count": 65,
     "metadata": {},
     "output_type": "execute_result"
    }
   ],
   "source": [
    "c = np.hstack([a,b]) #elements need to be in a list\n",
    "print(c)\n",
    "c.shape"
   ]
  },
  {
   "cell_type": "markdown",
   "metadata": {},
   "source": [
    "## Switching around the axes of an ndarray and matrix multiplication in numpy"
   ]
  },
  {
   "cell_type": "markdown",
   "metadata": {},
   "source": [
    "We can't matrix multiply the following ndarrays due to shape issues:"
   ]
  },
  {
   "cell_type": "code",
   "execution_count": 68,
   "metadata": {},
   "outputs": [],
   "source": [
    "a = 3*np.ones([3, 4])\n",
    "b = 2*np.ones([3, 4])"
   ]
  },
  {
   "cell_type": "markdown",
   "metadata": {},
   "source": [
    "Need to pair up as\n",
    "\n",
    "    (3, 4) x (4, 3)\n",
    "\n",
    "OR\n",
    "\n",
    "    (4, 3) x (3, 4)\n",
    "    \n",
    "Use the transpose to help out!"
   ]
  },
  {
   "cell_type": "code",
   "execution_count": 69,
   "metadata": {},
   "outputs": [
    {
     "data": {
      "text/plain": [
       "array([[24., 24., 24.],\n",
       "       [24., 24., 24.],\n",
       "       [24., 24., 24.]])"
      ]
     },
     "execution_count": 69,
     "metadata": {},
     "output_type": "execute_result"
    }
   ],
   "source": [
    "a @ b.T #np.transpose(b)"
   ]
  },
  {
   "cell_type": "code",
   "execution_count": 70,
   "metadata": {},
   "outputs": [
    {
     "data": {
      "text/plain": [
       "array([[6., 6., 6., 6.],\n",
       "       [6., 6., 6., 6.],\n",
       "       [6., 6., 6., 6.]])"
      ]
     },
     "execution_count": 70,
     "metadata": {},
     "output_type": "execute_result"
    }
   ],
   "source": [
    "a * b"
   ]
  },
  {
   "cell_type": "code",
   "execution_count": null,
   "metadata": {},
   "outputs": [],
   "source": []
  },
  {
   "cell_type": "markdown",
   "metadata": {},
   "source": [
    "Note: Transposing a ndarray vector isn't meaningful if you don't have a singleton dimension"
   ]
  },
  {
   "cell_type": "code",
   "execution_count": 72,
   "metadata": {},
   "outputs": [
    {
     "data": {
      "text/plain": [
       "(10,)"
      ]
     },
     "execution_count": 72,
     "metadata": {},
     "output_type": "execute_result"
    }
   ],
   "source": [
    "a = np.ones(10)\n",
    "a.shape"
   ]
  },
  {
   "cell_type": "code",
   "execution_count": 73,
   "metadata": {},
   "outputs": [
    {
     "data": {
      "text/plain": [
       "(10,)"
      ]
     },
     "execution_count": 73,
     "metadata": {},
     "output_type": "execute_result"
    }
   ],
   "source": [
    "a.T.shape"
   ]
  },
  {
   "cell_type": "code",
   "execution_count": 74,
   "metadata": {},
   "outputs": [
    {
     "name": "stdout",
     "output_type": "stream",
     "text": [
      "(10, 1)\n",
      "(1, 10)\n"
     ]
    }
   ],
   "source": [
    "a = a[:, np.newaxis]\n",
    "print(a.shape)\n",
    "print(a.T.shape)"
   ]
  },
  {
   "cell_type": "code",
   "execution_count": null,
   "metadata": {},
   "outputs": [],
   "source": []
  },
  {
   "cell_type": "markdown",
   "metadata": {},
   "source": [
    "### Matrix vs. element-wise multiplication\n",
    "\n",
    "- Star (*) operator means element-wise multiplication"
   ]
  },
  {
   "cell_type": "code",
   "execution_count": null,
   "metadata": {},
   "outputs": [],
   "source": []
  }
 ],
 "metadata": {
  "kernelspec": {
   "display_name": "Python 3 (ipykernel)",
   "language": "python",
   "name": "python3"
  },
  "language_info": {
   "codemirror_mode": {
    "name": "ipython",
    "version": 3
   },
   "file_extension": ".py",
   "mimetype": "text/x-python",
   "name": "python",
   "nbconvert_exporter": "python",
   "pygments_lexer": "ipython3",
   "version": "3.9.1"
  },
  "vscode": {
   "interpreter": {
    "hash": "aee8b7b246df8f9039afb4144a1f6fd8d2ca17a180786b69acc140d282b71a49"
   }
  }
 },
 "nbformat": 4,
 "nbformat_minor": 4
}
