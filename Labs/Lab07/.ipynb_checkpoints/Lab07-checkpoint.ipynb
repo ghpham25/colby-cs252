{
 "cells": [
  {
   "cell_type": "markdown",
   "metadata": {},
   "source": [
    "**YOUR NAME**\n",
    "\n",
    "Spring 2022\n",
    "\n",
    "CS 251: Data Analysis and Visualization\n",
    "\n",
    "# Lab 7: Visualizing Radial Basis Function Networks"
   ]
  },
  {
   "cell_type": "code",
   "execution_count": 2,
   "metadata": {},
   "outputs": [],
   "source": [
    "import numpy as np\n",
    "import pandas as pd\n",
    "import matplotlib.pyplot as plt\n",
    "\n",
    "from sklearn.cluster import KMeans\n",
    "\n",
    "from scipy.spatial import distance\n",
    "import scipy.linalg"
   ]
  },
  {
   "cell_type": "markdown",
   "metadata": {},
   "source": [
    "\n",
    "\n",
    "## Task 1: Load dataset and Initialize variables\n",
    "\n",
    "### 1a) Import Data\n",
    "- Below, using numpy [load](https://numpy.org/doc/stable/reference/generated/numpy.load.html) load in the sample data (`train_samples.npy`) and labels (`train_labels.npy`). the training set has 5000 samples."
   ]
  },
  {
   "cell_type": "code",
   "execution_count": 82,
   "metadata": {},
   "outputs": [],
   "source": []
  },
  {
   "cell_type": "markdown",
   "metadata": {},
   "source": [
    "### 1b) Create Clusters\n",
    "\n",
    "1. The number of nodes in the hidden layer will be 27.\n",
    "2. Because the dataset has 3 classes, the number of output units will be 3.  \n",
    "3. Create an instance of the [KMeans clustering algorithm class](https://scikit-learn.org/stable/modules/generated/sklearn.cluster.KMeans.html), with the number of clusters as the number of nodes in the hidden layer.\n",
    "    1. Calculate the `cluster_assignments` by fitting the KMeans clustering algorithm to the samples (train_samples) with the classes (train_labels), and predicting which clusters each sample would be assigned to.\n",
    "    2. Assign the cluster centroids to the variable `prototypes`.  \n",
    "4. Calcuate the `sigmas` for each cluster, the sigma is the mean distance between the points assigned to a prototype and the prototype.\n",
    "    1. The shape of sigmas should be an array with the length of the number of hidden nodes.\n",
    "    2. In the lab you can use [cdist](https://docs.scipy.org/doc/scipy/reference/generated/scipy.spatial.distance.cdist.html) to compute distance between the centroid and the datapoints assigned to it.  `cdist` expects two 2D arrays, so you will need to make your prototype a 2D array."
   ]
  },
  {
   "cell_type": "code",
   "execution_count": 3,
   "metadata": {},
   "outputs": [],
   "source": [
    "np.random.seed(10)\n",
    "\n",
    "# Your code here"
   ]
  },
  {
   "cell_type": "markdown",
   "metadata": {},
   "source": [
    "### 1c) Visualize Clusters\n",
    "\n",
    "1. Create a scatterplot of the training data with the x coordinates, y coordinates, coloring the points using the class\n",
    "2. On the same plot as the scatterplot. Draw the clusters\n",
    "    1. For each cluster, draw a [circle](https://matplotlib.org/stable/api/_as_gen/matplotlib.patches.Circle.html) with the center at the prototype coordinates, using the sigma as the radius.  \n",
    "    2. Add the circle to the axis. [add_patch](https://matplotlib.org/stable/api/_as_gen/matplotlib.axes.Axes.add_patch.html)\n",
    "    3. Set the alpha of the circles to be partially transparent and the facecolor and edgecolor to something easily differentiated from the data.\n",
    "3. Title the plot."
   ]
  },
  {
   "cell_type": "code",
   "execution_count": null,
   "metadata": {},
   "outputs": [],
   "source": []
  },
  {
   "cell_type": "markdown",
   "metadata": {},
   "source": [
    "### 2c) Visualize Model\n",
    "\n",
    "1. Create a scatterplot of the training data with the x coordinates, y coordinates, coloring the points using the class\n",
    "2. On the same plot as the scatterplot. Draw the circles to represent the clusters and color them based on the resulting weights given below.\n",
    "    1. For each cluster, draw a circle with the center at the prototype coordinates, using the sigma as the radius. \n",
    "    2. Set the alpha of the circles to be semi-transparent\n",
    "    3. Using the weights, determine whether that node represents the first class or the second.  Color the classes different facecolors with a black edgecolor.\n",
    "3. Title the plot."
   ]
  },
  {
   "cell_type": "code",
   "execution_count": 4,
   "metadata": {},
   "outputs": [],
   "source": [
    "wts = [[ -0.5570424048800952 , 0.3202160585838569 , 0.23682634629623894 ],\n",
    "[ -0.3171422177115015 , -0.5409465973983156 , 0.8580888151098163 ],\n",
    "[ 0.6501785675835832 , -0.6140910366378967 , -0.03608753094568832 ],\n",
    "[ 0.7207473857343744 , -0.6496895118638342 , -0.07105787387053947 ],\n",
    "[ -0.550871219456205 , 0.5872852054600008 , -0.03641398600379539 ],\n",
    "[ 0.3532083661950579 , -0.3184038242354737 , -0.03480454195958436 ],\n",
    "[ 0.5899355040821072 , -0.5743852205393468 , -0.01555028354276178 ],\n",
    "[ 0.6241629352784015 , -0.7388128108028282 , 0.11464987552442561 ],\n",
    "[ -0.5322569306148579 , -0.35471462965224054 , 0.886971560267099 ],\n",
    "[ 0.730718441746891 , -0.6906107736473123 , -0.04010766809957797 ],\n",
    "[ -0.7550411413571223 , 0.7805198647746734 , -0.025478723417550884 ],\n",
    "[ -0.6248305033008243 , 0.6931638233004551 , -0.06833331999963012 ],\n",
    "[ -0.5553261848258912 , -0.44640157348044474 , 1.0017277583063364 ],\n",
    "[ 0.7930156552508725 , -0.7578950605081061 , -0.03512059474276535 ],\n",
    "[ -0.18428436965187162 , 0.26802738764012257 , -0.08374301798825065 ],\n",
    "[ -0.5821044078783354 , 0.7101334403163303 , -0.12802903243799407 ],\n",
    "[ 0.20359206915010294 , -0.11769817258500735 , -0.08589389656509583 ],\n",
    "[ -0.014715157691860672 , 0.08139776227155551 , -0.06668260457969426 ],\n",
    "[ -0.6544859843109327 , 0.6634576887722878 , -0.008971704461356379 ],\n",
    "[ -0.45232271841183813 , -0.5675279539890884 , 1.0198506724009277 ],\n",
    "[ -0.39356348955524195 , -0.687363406967407 , 1.0809268965226482 ],\n",
    "[ 0.7847005643967092 , -0.6707702042343202 , -0.11393036016239 ],\n",
    "[ -0.6498059530388826 , -0.39718222703802164 , 1.0469881800769036 ],\n",
    "[ -0.5761006902467009 , 0.5936842147082291 , -0.017583524461527965 ],\n",
    "[ -0.4488142326141757 , 0.479831856918763 , -0.0310176243045874 ],\n",
    "[ -0.5627138135343364 , 0.644409090041507 , -0.08169527650716928 ],\n",
    "[ 0.6179733599227316 , -0.6014047208763773 , -0.016568639046354004 ],\n",
    "[ 0.47465792633304194 , 0.4995609155277032 , 0.025781158139254634 ]]\n",
    "\n",
    "# Your code here (it needs to use the wts)"
   ]
  },
  {
   "cell_type": "code",
   "execution_count": null,
   "metadata": {},
   "outputs": [],
   "source": []
  }
 ],
 "metadata": {
  "kernelspec": {
   "display_name": "Python 3",
   "language": "python",
   "name": "python3"
  },
  "language_info": {
   "codemirror_mode": {
    "name": "ipython",
    "version": 3
   },
   "file_extension": ".py",
   "mimetype": "text/x-python",
   "name": "python",
   "nbconvert_exporter": "python",
   "pygments_lexer": "ipython3",
   "version": "3.8.5"
  }
 },
 "nbformat": 4,
 "nbformat_minor": 5
}
