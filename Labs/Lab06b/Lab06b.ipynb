{
 "cells": [
  {
   "attachments": {},
   "cell_type": "markdown",
   "metadata": {},
   "source": [
    "**Giang Pham**\n",
    "\n",
    "Spring 2022\n",
    "\n",
    "CS 251: Data Analysis and Visualization"
   ]
  },
  {
   "cell_type": "markdown",
   "metadata": {},
   "source": [
    "# Lab 6B: Naive Bayes and K-Nearest Neighbor\n",
    "\n",
    "In this lab we will be using the library scikit-learn to train a Gaussian Naive Bayes classifier and graph the results."
   ]
  },
  {
   "cell_type": "code",
   "execution_count": 3,
   "metadata": {},
   "outputs": [
    {
     "name": "stderr",
     "output_type": "stream",
     "text": [
      "/var/folders/v7/nzjlbc216sb004j2tns6vw_00000gn/T/ipykernel_97512/733670150.py:8: MatplotlibDeprecationWarning: The seaborn styles shipped by Matplotlib are deprecated since 3.6, as they no longer correspond to the styles shipped by seaborn. However, they will remain available as 'seaborn-v0_8-<style>'. Alternatively, directly use the seaborn API instead.\n",
      "  plt.style.use(['seaborn-colorblind', 'seaborn-darkgrid'])\n",
      "/var/folders/v7/nzjlbc216sb004j2tns6vw_00000gn/T/ipykernel_97512/733670150.py:8: MatplotlibDeprecationWarning: The seaborn styles shipped by Matplotlib are deprecated since 3.6, as they no longer correspond to the styles shipped by seaborn. However, they will remain available as 'seaborn-v0_8-<style>'. Alternatively, directly use the seaborn API instead.\n",
      "  plt.style.use(['seaborn-colorblind', 'seaborn-darkgrid'])\n"
     ]
    }
   ],
   "source": [
    "import numpy as np\n",
    "import matplotlib.pyplot as plt\n",
    "import pandas as pd\n",
    "from sklearn import datasets, preprocessing, model_selection, decomposition\n",
    "from sklearn import neighbors, naive_bayes, metrics\n",
    "import matplotlib.pyplot as plt\n",
    "\n",
    "plt.style.use(['seaborn-colorblind', 'seaborn-darkgrid'])\n",
    "plt.rcParams.update({'font.size': 20})\n",
    "\n",
    "np.set_printoptions(suppress=True, precision=5)\n",
    "\n",
    "# Automatically reload external modules\n",
    "%load_ext autoreload\n",
    "%autoreload 2"
   ]
  },
  {
   "cell_type": "markdown",
   "metadata": {},
   "source": [
    "## Task 1: Load the digits dataset\n",
    "\n",
    "We're going to be seeing if we can use Naive Bayes and K-Nearest Neighbor to classify hand writing data.  The [digits dataset](https://scikit-learn.org/stable/auto_examples/datasets/plot_digits_last_image.html) is a set of 1797 8x8 pixel images, representing handwriting samples of the numbers 0-9.  This is just a small sample of the [MNIST handwriting dataset](http://yann.lecun.com/exdb/mnist/).\n",
    "\n",
    "1. Load the [digits dataset](https://scikit-learn.org/stable/modules/generated/sklearn.datasets.load_digits.html). Use the `return_X_y` parameter so that it returns both the X data and y classifications.\n",
    "2. Use [train test split](https://scikit-learn.org/stable/modules/generated/sklearn.model_selection.train_test_split.html) to split the X data and y classifications, into an X_training dataset, X_testing dataset and the corresponding y_training labels and y_testing labels.  Set the test size be .3 and shuffle to True.\n",
    "4. Print the shape of X_training, X_testing, y_training, and y_testing."
   ]
  },
  {
   "cell_type": "code",
   "execution_count": 10,
   "metadata": {},
   "outputs": [
    {
     "name": "stdout",
     "output_type": "stream",
     "text": [
      "x train: (1257, 64)\n",
      "x test: (540, 64)\n",
      "y train: (1257,)\n",
      "y test: (540,)\n",
      "Expected output\n",
      "\n",
      "X training data shape:  (1257, 64)\n",
      "X testing data shape:   (540, 64)\n",
      "y training labels shape:(1257,)\n",
      "y testing labels shape: (540,)\n",
      "\n"
     ]
    }
   ],
   "source": [
    "np.random.seed(42)\n",
    "x,y = datasets.load_digits(return_X_y=True)\n",
    "x_train, x_test, y_train, y_test = model_selection.train_test_split(x, y, test_size=0.3,shuffle=True)\n",
    "print(\"x train:\", np.array(x_train).shape)\n",
    "print(\"x test:\",np.array(x_test).shape)\n",
    "\n",
    "print(\"y train:\",np.array(y_train).shape)\n",
    "print(\"y test:\",np.array(y_test).shape)\n",
    "\n",
    "# Your code here\n",
    "\n",
    "print( \"Expected output\")\n",
    "print('''\n",
    "X training data shape:  (1257, 64)\n",
    "X testing data shape:   (540, 64)\n",
    "y training labels shape:(1257,)\n",
    "y testing labels shape: (540,)\n",
    "''')"
   ]
  },
  {
   "cell_type": "markdown",
   "metadata": {},
   "source": [
    "## Task 2: Create Classifiers and Calculate Accuracy\n",
    "\n",
    "### Create a Naive Bayes Classifier\n",
    "1. Create a [Gaussian Naive Bayes Classifier](https://scikit-learn.org/stable/modules/generated/sklearn.naive_bayes.GaussianNB.html#sklearn.naive_bayes.GaussianNB) [(More Info)](https://scikit-learn.org/stable/modules/naive_bayes.html#naive-bayes). \n",
    "2. Use the fit method with the training dataset as X and the y training dataset labels as the target.\n",
    "3. Calculate the accuracy of the classifier with the test data and test dataset labels using the score method.\n",
    "4. Print the accuracy of the Naive Bayes classifier.\n",
    "\n",
    "### Create a K-NN Classifier\n",
    "1. Using the lab from last week as reference, create a [K-Nearest Neighbors Classifier](https://scikit-learn.org/stable/modules/generated/sklearn.neighbors.KNeighborsClassifier.html) [(More Info)](https://scikit-learn.org/stable/modules/neighbors.html#classification).  Set n_neighbors equal to 7.\n",
    "1. Assign your classifier to a variable with a **different** name than your Naive Bayes classifier.  \n",
    "2. Use the fit method with the training dataset as X and the y training dataset labels as the target.\n",
    "3. Calculate the accuracy of the classifier with the test data and test dataset labels using the score method.\n",
    "4. Print the accuracy of the K-NN classifier.\n"
   ]
  },
  {
   "cell_type": "code",
   "execution_count": 11,
   "metadata": {},
   "outputs": [
    {
     "name": "stdout",
     "output_type": "stream",
     "text": [
      "Gaussian Naive Bayes Classifier Accuracy: 0.8518518518518519\n",
      "K-Nearest Neighbor Classifier Accuracy:  0.9907407407407407\n",
      "Expected output\n",
      "\n",
      "Gaussian Naive Bayes Classifier Accuracy: 0.85185...\n",
      "K-Nearest Neighbor Classifier Accuracy:   0.99074...\n",
      "\n"
     ]
    }
   ],
   "source": [
    "# Your code here\n",
    "gnb = naive_bayes.GaussianNB()\n",
    "gnb.fit(x_train, y_train)\n",
    "print(\"Gaussian Naive Bayes Classifier Accuracy:\", gnb.score(x_test, y_test))\n",
    "\n",
    "knn = neighbors.KNeighborsClassifier(n_neighbors=7)\n",
    "knn.fit(x_train, y_train)\n",
    "print(\"K-Nearest Neighbor Classifier Accuracy: \",knn.score(x_test, y_test))\n",
    "\n",
    "print( \"Expected output\")\n",
    "print('''\n",
    "Gaussian Naive Bayes Classifier Accuracy: 0.85185...\n",
    "K-Nearest Neighbor Classifier Accuracy:   0.99074...\n",
    "''')"
   ]
  },
  {
   "cell_type": "markdown",
   "metadata": {},
   "source": [
    "## Task 3: Create a confusion matrix for each classifier\n",
    "\n",
    "1. Find the predicted labels for the X test data using the predict method for the Naive Bayes classifier and K-NN classifier.\n",
    "1. Create a [confusion matrix](https://scikit-learn.org/stable/modules/generated/sklearn.metrics.confusion_matrix.html) for each classifier, using the predicted labels and actual labels.  \n",
    "1. Print the confusion matrices, along with some indication that the rows indicate the number of points that truly have a given label and that the columns indicate the number of points predicted to have that label.\n",
    "2. Visualize the confusion matrices using imshow. For reference, use Lab 4a and this [matplotlib example](https://matplotlib.org/3.1.1/gallery/images_contours_and_fields/image_annotated_heatmap.html) of an annotated heatmap.\n",
    "    1. Set x_ticks and y_ticks to align with the list of digits.\n",
    "    2. Use imshow to draw the matrix\n",
    "    3. Choose a perceptually uniform [colormap](https://matplotlib.org/tutorials/colors/colormaps.html)\n",
    "    3. Use a colorbar to label the matrix\n",
    "    4. Remember to call `plt.show()` at the end, or other plots later might not work.\n",
    "    5. Give your plot a meaningful title.\n",
    "    \n",
    "#### Review Question: Which digits are most likely to be misclassified and what are they most likely to be misclassified as?"
   ]
  },
  {
   "cell_type": "code",
   "execution_count": 14,
   "metadata": {},
   "outputs": [
    {
     "name": "stdout",
     "output_type": "stream",
     "text": [
      "(rows indicate true class count, columns indicate predicted class count)\n",
      "K-Nearest Neighbor Confusion Matrix, \n",
      " [[53  0  0  0  0  0  0  0  0  0]\n",
      " [ 0 50  0  0  0  0  0  0  0  0]\n",
      " [ 0  0 47  0  0  0  0  0  0  0]\n",
      " [ 0  0  0 54  0  0  0  0  0  0]\n",
      " [ 0  0  0  0 60  0  0  0  0  0]\n",
      " [ 0  0  0  0  0 64  1  0  0  1]\n",
      " [ 0  0  0  0  0  0 53  0  0  0]\n",
      " [ 0  0  0  0  0  0  0 55  0  0]\n",
      " [ 0  0  0  0  0  0  0  0 43  0]\n",
      " [ 0  0  0  1  1  1  0  0  0 56]]\n",
      "Gaussian Naive Bayes Confusion Matrix, \n",
      " [[52  0  0  0  0  0  0  1  0  0]\n",
      " [ 0 37  2  0  0  0  0  2  6  3]\n",
      " [ 0  3 31  0  0  0  1  0 12  0]\n",
      " [ 0  0  2 41  0  0  1  0  8  2]\n",
      " [ 0  0  0  0 51  0  2  7  0  0]\n",
      " [ 0  0  0  1  0 62  1  2  0  0]\n",
      " [ 0  0  0  0  1  1 51  0  0  0]\n",
      " [ 0  0  0  0  0  1  0 54  0  0]\n",
      " [ 0  2  0  0  0  0  0  2 39  0]\n",
      " [ 0  1  1  1  0  2  1  7  4 42]]\n",
      "Expected output (rows indicate true class count, columns indicate predicted class count)\n",
      "\n",
      "K-Nearest Neighbor Confusion Matrix\n",
      " [[53  0  0  0  0  0  0  0  0  0]\n",
      " [ 0 50  0  0  0  0  0  0  0  0]\n",
      " [ 0  0 47  0  0  0  0  0  0  0]\n",
      " [ 0  0  0 54  0  0  0  0  0  0]\n",
      " [ 0  0  0  0 60  0  0  0  0  0]\n",
      " [ 0  0  0  0  0 64  1  0  0  1]\n",
      " [ 0  0  0  0  0  0 53  0  0  0]\n",
      " [ 0  0  0  0  0  0  0 55  0  0]\n",
      " [ 0  0  0  0  0  0  0  0 43  0]\n",
      " [ 0  0  0  1  1  1  0  0  0 56]]\n",
      " Gaussian Naive Bayes Confusion Matrix\n",
      "[[52  0  0  0  0  0  0  1  0  0]\n",
      " [ 0 37  2  0  0  0  0  2  6  3]\n",
      " [ 0  3 31  0  0  0  1  0 12  0]\n",
      " [ 0  0  2 41  0  0  1  0  8  2]\n",
      " [ 0  0  0  0 51  0  2  7  0  0]\n",
      " [ 0  0  0  1  0 62  1  2  0  0]\n",
      " [ 0  0  0  0  1  1 51  0  0  0]\n",
      " [ 0  0  0  0  0  1  0 54  0  0]\n",
      " [ 0  2  0  0  0  0  0  2 39  0]\n",
      " [ 0  1  1  1  0  2  1  7  4 42]]\n",
      "\n"
     ]
    }
   ],
   "source": [
    "# Your code goes here\n",
    "ypred_nb = gnb.predict(x_test)\n",
    "ypred_knn = knn.predict(x_test)\n",
    "\n",
    "nb_confuse = metrics.confusion_matrix(y_test, ypred_nb)\n",
    "knn_confuse = metrics.confusion_matrix(y_test, ypred_knn)\n",
    "\n",
    "print(\"(rows indicate true class count, columns indicate predicted class count)\")\n",
    "print(\"K-Nearest Neighbor Confusion Matrix, \\n\", knn_confuse)\n",
    "print(\"Gaussian Naive Bayes Confusion Matrix, \\n\", nb_confuse)\n",
    "\n",
    "print(\"Expected output (rows indicate true class count, columns indicate predicted class count)\")\n",
    "print('''\n",
    "K-Nearest Neighbor Confusion Matrix\n",
    " [[53  0  0  0  0  0  0  0  0  0]\n",
    " [ 0 50  0  0  0  0  0  0  0  0]\n",
    " [ 0  0 47  0  0  0  0  0  0  0]\n",
    " [ 0  0  0 54  0  0  0  0  0  0]\n",
    " [ 0  0  0  0 60  0  0  0  0  0]\n",
    " [ 0  0  0  0  0 64  1  0  0  1]\n",
    " [ 0  0  0  0  0  0 53  0  0  0]\n",
    " [ 0  0  0  0  0  0  0 55  0  0]\n",
    " [ 0  0  0  0  0  0  0  0 43  0]\n",
    " [ 0  0  0  1  1  1  0  0  0 56]]\n",
    " Gaussian Naive Bayes Confusion Matrix\n",
    "[[52  0  0  0  0  0  0  1  0  0]\n",
    " [ 0 37  2  0  0  0  0  2  6  3]\n",
    " [ 0  3 31  0  0  0  1  0 12  0]\n",
    " [ 0  0  2 41  0  0  1  0  8  2]\n",
    " [ 0  0  0  0 51  0  2  7  0  0]\n",
    " [ 0  0  0  1  0 62  1  2  0  0]\n",
    " [ 0  0  0  0  1  1 51  0  0  0]\n",
    " [ 0  0  0  0  0  1  0 54  0  0]\n",
    " [ 0  2  0  0  0  0  0  2 39  0]\n",
    " [ 0  1  1  1  0  2  1  7  4 42]]\n",
    "''')\n"
   ]
  },
  {
   "cell_type": "code",
   "execution_count": 34,
   "metadata": {},
   "outputs": [
    {
     "data": {
      "image/png": "[encoded data removed]",
      "text/plain": [
       "<Figure size 640x480 with 2 Axes>"
      ]
     },
     "metadata": {},
     "output_type": "display_data"
    }
   ],
   "source": [
    "from mpl_toolkits.axes_grid1 import make_axes_locatable\n",
    "\n",
    "fig, ax = plt.subplots()\n",
    "im_nb = ax.imshow(nb_confuse, cmap = 'inferno')\n",
    "ax.set_xticks(np.arange(10))\n",
    "ax.set_yticks(np.arange(10))\n",
    "\n",
    "ax.set_xticklabels(np.arange(10), size = 10)\n",
    "ax.set_yticklabels(np.arange(10), size = 10)\n",
    "\n",
    "# Rotate the tick labels and set their alignment.\n",
    "plt.setp(ax.get_xticklabels(), rotation=45, ha=\"right\",\n",
    "         rotation_mode=\"anchor\")\n",
    "\n",
    "divider = make_axes_locatable(ax)\n",
    "cax = divider.append_axes(\"right\", size=\"5%\", pad=0.2)\n",
    "\n",
    "fig.suptitle(\"Naive Bayes Confusion Matrix\")\n",
    "plt.colorbar(im_nb, cax=cax)\n",
    "plt.show()\n"
   ]
  },
  {
   "cell_type": "code",
   "execution_count": 35,
   "metadata": {},
   "outputs": [
    {
     "data": {
      "image/png": "[encoded data removed]",
      "text/plain": [
       "<Figure size 640x480 with 2 Axes>"
      ]
     },
     "metadata": {},
     "output_type": "display_data"
    }
   ],
   "source": [
    "fig, ax = plt.subplots()\n",
    "im_knn = ax.imshow(knn_confuse, cmap = \"magma\")\n",
    "ax.set_xticks(np.arange(10))\n",
    "ax.set_yticks(np.arange(10))\n",
    "\n",
    "ax.set_xticklabels(np.arange(10), size = 10)\n",
    "ax.set_yticklabels(np.arange(10), size = 10)\n",
    "\n",
    "# Rotate the tick labels and set their alignment.\n",
    "plt.setp(ax.get_xticklabels(), rotation=45, ha=\"right\",\n",
    "         rotation_mode=\"anchor\")\n",
    "\n",
    "divider = make_axes_locatable(ax)\n",
    "cax = divider.append_axes(\"right\", size=\"5%\", pad=0.2)\n",
    "\n",
    "fig.suptitle(\"KNN Confusion Matrix\")\n",
    "plt.colorbar(im_knn, cax=cax)\n",
    "plt.show()\n"
   ]
  },
  {
   "attachments": {},
   "cell_type": "markdown",
   "metadata": {},
   "source": [
    "**Review Question: Which digits are most likely to be misclassified and what are they most likely to be misclassified as**?\n",
    "\n",
    "**Answer**: \n",
    "2 are often misclassified as 8, 3 are also often misclassified as 8"
   ]
  },
  {
   "cell_type": "markdown",
   "metadata": {},
   "source": []
  }
 ],
 "metadata": {
  "kernelspec": {
   "display_name": "Python 3",
   "language": "python",
   "name": "python3"
  },
  "language_info": {
   "codemirror_mode": {
    "name": "ipython",
    "version": 3
   },
   "file_extension": ".py",
   "mimetype": "text/x-python",
   "name": "python",
   "nbconvert_exporter": "python",
   "pygments_lexer": "ipython3",
   "version": "3.8.5"
  }
 },
 "nbformat": 4,
 "nbformat_minor": 4
}
